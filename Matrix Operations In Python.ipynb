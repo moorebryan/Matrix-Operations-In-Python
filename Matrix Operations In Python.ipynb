{
 "cells": [
  {
   "cell_type": "markdown",
   "metadata": {},
   "source": [
    "We first load all modules we will use for this notebook"
   ]
  },
  {
   "cell_type": "code",
   "execution_count": 24,
   "metadata": {},
   "outputs": [],
   "source": [
    "import numpy as np\n",
    "import matplotlib.pyplot as plt\n",
    "from sklearn.metrics.pairwise import cosine_similarity\n",
    "import math"
   ]
  },
  {
   "cell_type": "markdown",
   "metadata": {},
   "source": [
    "Create a function to calculate the cosine similarity between two given vectors"
   ]
  },
  {
   "cell_type": "code",
   "execution_count": 25,
   "metadata": {},
   "outputs": [],
   "source": [
    "def cosine_similarity(a,b):\n",
    "    cos_sim = np.dot(a, b)/(np.linalg.norm(a)*np.linalg.norm(b))\n",
    "    return cos_sim"
   ]
  },
  {
   "cell_type": "markdown",
   "metadata": {},
   "source": [
    "Below are a few things to remember about a cosine similarity"
   ]
  },
  {
   "cell_type": "markdown",
   "metadata": {},
   "source": [
    "A cosine similarity measures the cosine of the angle between the two given vectors. Essentially, it measures the projection of one along the other. <br>\n",
    "A cosine similarity of 0 means that the projection of one on the other is zero, meaning they are orthogonal.\n",
    "<br>\n",
    "A cosine similarity of 1 means that they are parallel and a cosine similarity of -1 means that they are anti-parallel."
   ]
  },
  {
   "cell_type": "markdown",
   "metadata": {},
   "source": [
    "Below we define a few vectors for testing purposes."
   ]
  },
  {
   "cell_type": "code",
   "execution_count": 26,
   "metadata": {},
   "outputs": [
    {
     "name": "stdout",
     "output_type": "stream",
     "text": [
      "[1 0] [2 0] [0 4] [-3 -3]\n"
     ]
    }
   ],
   "source": [
    "x1=np.array([1,0])\n",
    "x2=np.array([2, 0])\n",
    "x3=np.array([0, 4])\n",
    "x4=np.random.randint(low=-10,high=10,size=2) # Randomly created integer vector\n",
    "print(x1,x2,x3,x4)"
   ]
  },
  {
   "cell_type": "markdown",
   "metadata": {},
   "source": [
    "We now calculate the cosine similarity between x1 and the other three vectors"
   ]
  },
  {
   "cell_type": "code",
   "execution_count": 27,
   "metadata": {},
   "outputs": [
    {
     "name": "stdout",
     "output_type": "stream",
     "text": [
      "The cosine similarity of  [1 0] and [2 0] is 1.000\n",
      "The cosine similarity of  [1 0] and [0 4] is 0.000\n",
      "The cosine similarity of  [1 0] and [-3 -3] is -0.707\n"
     ]
    }
   ],
   "source": [
    "cos_sim_x1x2=cosine_similarity(x1,x2)\n",
    "cos_sim_x1x3=cosine_similarity(x1,x3)\n",
    "cos_sim_x1x4=cosine_similarity(x1,x4)\n",
    "\n",
    "print(\"The cosine similarity of \", x1, \"and\", x2 ,\"is %.3f\" %(cos_sim_x1x2))\n",
    "print(\"The cosine similarity of \", x1, \"and\", x3 ,\"is %.3f\" %(cos_sim_x1x3))\n",
    "print(\"The cosine similarity of \", x1, \"and\", x4 ,\"is %.3f\" %(cos_sim_x1x4))"
   ]
  },
  {
   "cell_type": "markdown",
   "metadata": {},
   "source": [
    "Below we visualize all 4 vectors."
   ]
  },
  {
   "cell_type": "code",
   "execution_count": 28,
   "metadata": {},
   "outputs": [
    {
     "data": {
      "image/png": "[encoded data removed]",
      "text/plain": [
       "<Figure size 432x288 with 1 Axes>"
      ]
     },
     "metadata": {
      "needs_background": "light"
     },
     "output_type": "display_data"
    }
   ],
   "source": [
    "V = np.array([x1,x2,x3,x4])\n",
    "origin = [0], [0] # origin point\n",
    "plt.quiver(*origin, V[:,0], V[:,1], color=['r','b','g','k'], scale=21)\n",
    "plt.show()"
   ]
  },
  {
   "cell_type": "markdown",
   "metadata": {},
   "source": [
    "We calculate the distance of vector x4 using four different distance metrics."
   ]
  },
  {
   "cell_type": "code",
   "execution_count": 29,
   "metadata": {},
   "outputs": [
    {
     "name": "stdout",
     "output_type": "stream",
     "text": [
      "The l1 distance of  [-3 -3] is 6.000\n",
      "The l2 distance of  [-3 -3] is 4.243\n",
      "The l4 distance of  [-3 -3] is 3.568\n",
      "The l10 distance of  [-3 -3] is 3.215\n"
     ]
    }
   ],
   "source": [
    "l1_x4=np.linalg.norm(x4,1)\n",
    "l2_x4=np.linalg.norm(x4,2)\n",
    "l4_x4=np.linalg.norm(x4,4)\n",
    "l10_x4=np.linalg.norm(x4,10)\n",
    "\n",
    "print(\"The l1 distance of \", x4, \"is %.3f\" %l1_x4)\n",
    "print(\"The l2 distance of \", x4, \"is %.3f\" %l2_x4)\n",
    "print(\"The l4 distance of \", x4, \"is %.3f\" %l4_x4)\n",
    "print(\"The l10 distance of \", x4, \"is %.3f\" %l10_x4)"
   ]
  },
  {
   "cell_type": "markdown",
   "metadata": {},
   "source": [
    "We calculate the distance between vector x4 and vector x1 using the same 4 different distance metrics."
   ]
  },
  {
   "cell_type": "code",
   "execution_count": 30,
   "metadata": {},
   "outputs": [
    {
     "name": "stdout",
     "output_type": "stream",
     "text": [
      "The l1 distance of  [-3 -3] minus [1 0] is 7.000\n",
      "The l2 distance of  [-3 -3] minus [1 0] is 5.000\n",
      "The l4 distance of  [-3 -3] minus [1 0] is 4.285\n",
      "The l10 distance of  [-3 -3] minus [1 0] is 4.022\n"
     ]
    }
   ],
   "source": [
    "xSub = x4 - x1\n",
    "\n",
    "l1_xSub=np.linalg.norm(xSub,1)\n",
    "l2_xSub=np.linalg.norm(xSub,2)\n",
    "l4_xSub=np.linalg.norm(xSub,4)\n",
    "l10_xSub=np.linalg.norm(xSub,10)\n",
    "\n",
    "print(\"The l1 distance of \", x4, \"minus\", x1, \"is %.3f\" %l1_xSub)\n",
    "print(\"The l2 distance of \", x4, \"minus\", x1, \"is %.3f\" %l2_xSub)\n",
    "print(\"The l4 distance of \", x4, \"minus\", x1, \"is %.3f\" %l4_xSub)\n",
    "print(\"The l10 distance of \", x4, \"minus\", x1, \"is %.3f\" %l10_xSub)"
   ]
  },
  {
   "cell_type": "markdown",
   "metadata": {},
   "source": [
    "Create a random matrix and calculate its rank."
   ]
  },
  {
   "cell_type": "code",
   "execution_count": 31,
   "metadata": {},
   "outputs": [
    {
     "name": "stdout",
     "output_type": "stream",
     "text": [
      "[[-8.98284725 -0.46598279 -3.76715685]\n",
      " [ 8.03269592 -0.09947017 -0.03530441]\n",
      " [ 8.23689424  9.13449309 -3.09868078]]\n",
      "The rank of matrix Mat is 3\n"
     ]
    }
   ],
   "source": [
    "np.random.seed(seed=402)\n",
    "Mat=np.random.uniform(-10,10,(3,3))\n",
    "\n",
    "print(Mat)\n",
    "print(\"The rank of matrix Mat is %i\" %np.linalg.matrix_rank(Mat))"
   ]
  },
  {
   "cell_type": "markdown",
   "metadata": {},
   "source": [
    "Note that in order for there to be an inverse the rank must be the same as the number of rows/columns, as rank can only be calculated for a square matrix.<br>\n",
    "If the rank is less than the number of rows/columns than the basis does not span the entire n-dimensional space."
   ]
  },
  {
   "cell_type": "markdown",
   "metadata": {},
   "source": [
    "We now calculate the exact inverse of this matrix."
   ]
  },
  {
   "cell_type": "code",
   "execution_count": 32,
   "metadata": {},
   "outputs": [
    {
     "name": "stdout",
     "output_type": "stream",
     "text": [
      "The inverse of Matrix Mat is below\n",
      "[[-0.00212627  0.12087492  0.0012078 ]\n",
      " [-0.08293177 -0.1984454   0.10308353]\n",
      " [-0.25012371 -0.2636813  -0.01563106]]\n"
     ]
    }
   ],
   "source": [
    "Mat_inv = np.linalg.inv(Mat)\n",
    "\n",
    "print(\"The inverse of Matrix Mat is below\")\n",
    "print(Mat_inv)"
   ]
  },
  {
   "cell_type": "markdown",
   "metadata": {},
   "source": [
    "For testing whether this inverse is correct I will calculate this inverse matrix multiplied by the specified vector b."
   ]
  },
  {
   "cell_type": "code",
   "execution_count": 33,
   "metadata": {},
   "outputs": [
    {
     "name": "stdout",
     "output_type": "stream",
     "text": [
      "[[ 0.24324697]\n",
      " [-0.17057196]\n",
      " [-0.82437947]]\n"
     ]
    }
   ],
   "source": [
    "b=np.array([1,2,3]).reshape(3,1)\n",
    "\n",
    "# Using the formula x = Mat_inv * b\n",
    "x = np.matmul(Mat_inv,b)\n",
    "\n",
    "print(x)"
   ]
  },
  {
   "cell_type": "markdown",
   "metadata": {},
   "source": [
    "Then multiply my original matrix times this output matrix. If the inverse was calculated perfectly this should give me back the original vector b."
   ]
  },
  {
   "cell_type": "code",
   "execution_count": 34,
   "metadata": {},
   "outputs": [
    {
     "name": "stdout",
     "output_type": "stream",
     "text": [
      "[[1.]\n",
      " [2.]\n",
      " [3.]]\n"
     ]
    }
   ],
   "source": [
    "# To test I will multiply Mat * x and make sure it is b\n",
    "print(np.matmul(Mat,x))"
   ]
  },
  {
   "cell_type": "markdown",
   "metadata": {},
   "source": [
    "As we had hoped, this is the same vector I started with.<br>\n",
    "Thus, the inverse was calculated perfectly."
   ]
  },
  {
   "cell_type": "markdown",
   "metadata": {},
   "source": [
    "We will now solve for the vector x using a different approach, with a built-in solver."
   ]
  },
  {
   "cell_type": "code",
   "execution_count": 35,
   "metadata": {},
   "outputs": [
    {
     "name": "stdout",
     "output_type": "stream",
     "text": [
      "[[ 0.24324697]\n",
      " [-0.17057196]\n",
      " [-0.82437947]]\n"
     ]
    }
   ],
   "source": [
    "x = np.linalg.solve(Mat,b)\n",
    "\n",
    "print(x)"
   ]
  },
  {
   "cell_type": "markdown",
   "metadata": {},
   "source": [
    "This is indeed the same matrix we got before. This is another indication our approach was correct."
   ]
  },
  {
   "cell_type": "markdown",
   "metadata": {},
   "source": [
    "We now create a new matrix, as defined below."
   ]
  },
  {
   "cell_type": "code",
   "execution_count": 36,
   "metadata": {},
   "outputs": [
    {
     "name": "stdout",
     "output_type": "stream",
     "text": [
      "[[ 1 -1  1]\n",
      " [-3  2  4]\n",
      " [-1  0  6]]\n"
     ]
    }
   ],
   "source": [
    "newMat = np.matrix([[1,-1,1],[-3,2,4],[-1,0,6]])\n",
    "\n",
    "print(newMat)"
   ]
  },
  {
   "cell_type": "markdown",
   "metadata": {},
   "source": [
    "For this new inverse we calculate its rank, its inverse using the built-in solver, and the direct product of the matrix and the calculated inverse."
   ]
  },
  {
   "cell_type": "code",
   "execution_count": 37,
   "metadata": {},
   "outputs": [
    {
     "name": "stdout",
     "output_type": "stream",
     "text": [
      "The rank of newMat is 2\n",
      "The inverse of newMat is below\n",
      "[[-6.75539944e+15 -3.37769972e+15  3.37769972e+15]\n",
      " [-7.88129935e+15 -3.94064967e+15  3.94064967e+15]\n",
      " [-1.12589991e+15 -5.62949953e+14  5.62949953e+14]]\n",
      "Below is the product of newMat and newMat_inv\n",
      "[[ 1.    -0.5    0.625]\n",
      " [-2.     1.    -0.5  ]\n",
      " [ 0.     0.     1.   ]]\n"
     ]
    }
   ],
   "source": [
    "# Find rank\n",
    "rank_new = np.linalg.matrix_rank(newMat)\n",
    "print(\"The rank of newMat is\", rank_new)\n",
    "\n",
    "# Calculate Inverse\n",
    "newMat_inv = np.linalg.inv(newMat)\n",
    "print(\"The inverse of newMat is below\")\n",
    "print(newMat_inv)\n",
    "\n",
    "# Multiply matrix with its calculated inverse\n",
    "print(\"Below is the product of newMat and newMat_inv\")\n",
    "print(np.matmul(newMat,newMat_inv))"
   ]
  },
  {
   "cell_type": "markdown",
   "metadata": {},
   "source": [
    "Obviously the multiplication of a matrix and its inverse should be one. <br>\n",
    "However, as we have a 3D matrix, and the rank is 2, we also know that the inverse should not exist.<br>\n",
    "I will use this questionable inverse in the calculation for the following part."
   ]
  },
  {
   "cell_type": "markdown",
   "metadata": {},
   "source": [
    "Using this above-calculated 'inverse' we once again calculate x from our same manually defined vector b."
   ]
  },
  {
   "cell_type": "code",
   "execution_count": 38,
   "metadata": {},
   "outputs": [
    {
     "name": "stdout",
     "output_type": "stream",
     "text": [
      "[[-3.37769972e+15]\n",
      " [-3.94064967e+15]\n",
      " [-5.62949953e+14]]\n"
     ]
    }
   ],
   "source": [
    "# Let us again define our vector b\n",
    "b=np.array([1,2,3]).reshape(3,1)\n",
    "\n",
    "# Using the formula x = newMat_inv * b\n",
    "x = np.matmul(newMat_inv,b)\n",
    "\n",
    "print(x)"
   ]
  },
  {
   "cell_type": "markdown",
   "metadata": {},
   "source": [
    "As before, we see if by multiplying the matrix by this calculated vector x we recover this original vector b.<br>\n",
    "As expected, this does not give back the original vector."
   ]
  },
  {
   "cell_type": "code",
   "execution_count": 39,
   "metadata": {},
   "outputs": [
    {
     "name": "stdout",
     "output_type": "stream",
     "text": [
      "[[ 2.5]\n",
      " [-2. ]\n",
      " [ 3. ]]\n"
     ]
    }
   ],
   "source": [
    "# To test I will multiply Mat * x to see if it is b\n",
    "print(np.matmul(newMat,x))"
   ]
  },
  {
   "cell_type": "markdown",
   "metadata": {},
   "source": [
    "The above-noted limitations, where we were not able to effectively calculate the inverse of the matrix, it shows that calculations cannot always be trusted, even if there are no errors.<br>\n",
    "An error would have been better, as without it we had no obvious reason to believe that the calculated inverse was not a true inverse.<br>\n",
    "The following steps show that sometimes estimations can actually be much more accurate than an attempt to solve exactly.<br>\n",
    "For developing a machine-learning algorithm we must be very careful to check whether the results of calculations are reasonable or not. Otherwise other approaches will be needed."
   ]
  },
  {
   "cell_type": "markdown",
   "metadata": {},
   "source": [
    "As we know that we with this matrix we cannot calculate an inverse exactly, we instead employ an estimation technique.<br>\n",
    "This is shown in the below box."
   ]
  },
  {
   "cell_type": "code",
   "execution_count": 40,
   "metadata": {},
   "outputs": [
    {
     "name": "stdout",
     "output_type": "stream",
     "text": [
      "(array([[ 0.03100775],\n",
      "       [-0.10271318],\n",
      "       [ 0.53294574]]), array([], dtype=float64), 2, array([ 7.77600954,  2.92124557, -0.        ]))\n"
     ]
    },
    {
     "name": "stderr",
     "output_type": "stream",
     "text": [
      "/Users/bryan/anaconda3/lib/python3.7/site-packages/ipykernel_launcher.py:1: FutureWarning: `rcond` parameter will change to the default of machine precision times ``max(M, N)`` where M and N are the input matrix dimensions.\n",
      "To use the future default and silence this warning we advise to pass `rcond=None`, to keep using the old, explicitly pass `rcond=-1`.\n",
      "  \"\"\"Entry point for launching an IPython kernel.\n"
     ]
    }
   ],
   "source": [
    "x_new = np.linalg.lstsq(newMat,b)\n",
    "\n",
    "print(x_new)"
   ]
  },
  {
   "cell_type": "markdown",
   "metadata": {},
   "source": [
    "With this above calculated pseudo-inverse we now see if we get back the original b matrix we entered in.<br>\n",
    "If this inverse was exact the vector we get out will exactly be the vector we entered in."
   ]
  },
  {
   "cell_type": "code",
   "execution_count": 41,
   "metadata": {},
   "outputs": [
    {
     "name": "stdout",
     "output_type": "stream",
     "text": [
      "[[0.66666667]\n",
      " [1.83333333]\n",
      " [3.16666667]]\n"
     ]
    }
   ],
   "source": [
    "b_hat = np.matmul(newMat,x_new[0])\n",
    "\n",
    "print(b_hat)"
   ]
  },
  {
   "cell_type": "markdown",
   "metadata": {},
   "source": [
    "We had expected to get the vector [1,2,3], and this is certainly much closer to this than what we got with the entirely false inverse.<br>\n",
    "However, as this was not an exact inverse we were not able to recover the original vector exactly."
   ]
  },
  {
   "cell_type": "markdown",
   "metadata": {},
   "source": [
    "We will now calculate the Euclidean distance (meaning L2) between the provided vector and the vector we got back from the pseudo-inverse."
   ]
  },
  {
   "cell_type": "code",
   "execution_count": 42,
   "metadata": {},
   "outputs": [
    {
     "name": "stdout",
     "output_type": "stream",
     "text": [
      "The Euclidean distance between b and b_hat is: 0.4082482904638629\n"
     ]
    }
   ],
   "source": [
    "b_sub = b - b_hat\n",
    "\n",
    "l2_bSub=np.linalg.norm(b_sub,2)\n",
    "\n",
    "print(\"The Euclidean distance between b and b_hat is:\",l2_bSub)"
   ]
  },
  {
   "cell_type": "markdown",
   "metadata": {},
   "source": [
    "We now create a random matrix with a set variance, mean, and standard deviation."
   ]
  },
  {
   "cell_type": "code",
   "execution_count": 43,
   "metadata": {},
   "outputs": [
    {
     "name": "stdout",
     "output_type": "stream",
     "text": [
      "[[ 5.33799785 11.97540026  8.02491684]\n",
      " [ 5.21633489  8.37893737  8.15336839]\n",
      " [ 2.05418684  7.30982403  4.45857477]]\n"
     ]
    }
   ],
   "source": [
    "variance = 10\n",
    "mean = 5\n",
    "std_dev = math.sqrt(10)\n",
    "np.random.seed(seed=88)\n",
    "\n",
    "# Create matrix with above-defined parameters\n",
    "Mat2=std_dev * np.random.randn(3,3) + mean\n",
    "print(Mat2)"
   ]
  },
  {
   "cell_type": "markdown",
   "metadata": {},
   "source": [
    "Let us calculate the determinant of this matrix."
   ]
  },
  {
   "cell_type": "code",
   "execution_count": 44,
   "metadata": {},
   "outputs": [
    {
     "name": "stdout",
     "output_type": "stream",
     "text": [
      "The determinant of matrix Mat2 is: -28.801935084011443\n"
     ]
    }
   ],
   "source": [
    "# Calculate determinant\n",
    "det_mat2 = np.linalg.det(Mat2)\n",
    "\n",
    "print(\"The determinant of matrix Mat2 is:\",det_mat2)"
   ]
  },
  {
   "cell_type": "markdown",
   "metadata": {},
   "source": [
    "Note the following information about determinants.<br>\n",
    "The determinant can be thought of as the scaling factor for the linear transformation described by the matrix.<br>\n",
    "A negative determinant means that if we input act a vector on this matrix it will invert the orientation of the vector.<br>\n",
    "A determinant of zero means that the system has either no nontrivial solutions or an infinite number of solutions."
   ]
  },
  {
   "cell_type": "markdown",
   "metadata": {},
   "source": [
    "We now calculate the eigenvalues and eigenvectors (shown horizontally for convenience) for this randomly generated matrix."
   ]
  },
  {
   "cell_type": "code",
   "execution_count": 45,
   "metadata": {},
   "outputs": [
    {
     "name": "stdout",
     "output_type": "stream",
     "text": [
      "The eigenvalues for Mat2 are: [19.75530817  0.65297116 -2.23276935]\n",
      "The eigenvectors for Mat2 are below:\n",
      "[-0.70696977 -0.59649451 -0.37998426]\n",
      "[-0.8022028  -0.08242487  0.59133477]\n",
      "[ 0.42320826 -0.67359825  0.60593743]\n"
     ]
    }
   ],
   "source": [
    "# Calculate eigenvalues and eigenvectors\n",
    "eigenvalues,eigenvectors = np.linalg.eig(Mat2)\n",
    "\n",
    "print(\"The eigenvalues for Mat2 are:\",eigenvalues)\n",
    "print(\"The eigenvectors for Mat2 are below:\")\n",
    "print(eigenvectors[:,0])\n",
    "print(eigenvectors[:,1])\n",
    "print(eigenvectors[:,2])"
   ]
  },
  {
   "cell_type": "markdown",
   "metadata": {},
   "source": [
    "Note the following properties about eigenvalues and eigenvectors.<br>\n",
    "Eigenvectors are special vectors in the Rn space which can be transformed such that they are scaled larger or smaller. These correspond to the discovered eigenvalues for our system.<br>\n",
    "Eigenvalues are the scale factors which are allowed for that space. They are the most important modes for our system.<br>\n",
    "An eigenvalue of zero means that that there is not a corresponding eigenvector. This means that this matrix transformation takes us to a space with less dimensionality."
   ]
  },
  {
   "cell_type": "code",
   "execution_count": null,
   "metadata": {},
   "outputs": [],
   "source": []
  }
 ],
 "metadata": {
  "kernelspec": {
   "display_name": "Python 3",
   "language": "python",
   "name": "python3"
  },
  "language_info": {
   "codemirror_mode": {
    "name": "ipython",
    "version": 3
   },
   "file_extension": ".py",
   "mimetype": "text/x-python",
   "name": "python",
   "nbconvert_exporter": "python",
   "pygments_lexer": "ipython3",
   "version": "3.7.2"
  }
 },
 "nbformat": 4,
 "nbformat_minor": 2
}
